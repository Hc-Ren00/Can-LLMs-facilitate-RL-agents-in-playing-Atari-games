{
 "cells": [
  {
   "cell_type": "code",
   "execution_count": 154,
   "metadata": {},
   "outputs": [],
   "source": [
    "import gymnasium as gym\n",
    "import torch\n",
    "import torch.nn as nn\n",
    "import torch.nn.functional as f\n",
    "from torch.distributions import Normal,Categorical\n",
    "import numpy as np\n",
    "import matplotlib.pyplot as plt\n",
    "import torchvision.transforms.functional as TF\n",
    "from PIL import Image "
   ]
  },
  {
   "cell_type": "code",
   "execution_count": 149,
   "metadata": {},
   "outputs": [],
   "source": [
    "class Qtable(nn.Module):\n",
    "    def __init__(self, num_inputs, num_outputs, hidden_size):\n",
    "        super().__init__()\n",
    "        self.convs = nn.Sequential(\n",
    "            nn.Conv2d(num_inputs, 32, 8, stride=4, padding=0), \n",
    "            nn.ReLU(),\n",
    "            nn.Conv2d(32, 64, 4, stride=2, padding=0), \n",
    "            nn.ReLU(),\n",
    "            nn.Conv2d(64, 64, 3, stride=1, padding=0), \n",
    "            nn.ReLU(),\n",
    "            nn.Flatten())\n",
    "        \n",
    "        \n",
    "        self.q_net = nn.Sequential(\n",
    "            nn.Linear(1920, hidden_size),\n",
    "            nn.ReLU(),\n",
    "            nn.Linear(hidden_size, num_outputs)\n",
    "        )\n",
    "    \n",
    "    def forward(self, x):\n",
    "        x = self.convs(x)\n",
    "        value = self.q_net(x)\n",
    "        return value"
   ]
  },
  {
   "cell_type": "code",
   "execution_count": 155,
   "metadata": {},
   "outputs": [],
   "source": [
    "breakout_inputdim = (1, 82, 72)\n",
    "\n",
    "# This is a little method that will do preprocessing of breakout input for us\n",
    "def prepro(image):\n",
    "    image = image[32:196]  # crop\n",
    "    copy = np.transpose(image, (1,0))\n",
    "    image = copy[8:152]\n",
    "    image = np.transpose(image, (1,0))\n",
    "    image = image[::2, ::2]\n",
    "    tens = TF.to_tensor(image)\n",
    "    tens = tens.unsqueeze(0)\n",
    "    return tens, np.reshape(image, breakout_inputdim)"
   ]
  },
  {
   "cell_type": "code",
   "execution_count": 151,
   "metadata": {},
   "outputs": [
    {
     "name": "stdout",
     "output_type": "stream",
     "text": [
      "(1, 82, 72)\n"
     ]
    },
    {
     "data": {
      "text/plain": [
       "<matplotlib.image.AxesImage at 0x26c85ecb490>"
      ]
     },
     "execution_count": 151,
     "metadata": {},
     "output_type": "execute_result"
    },
    {
     "data": {
      "image/png": "[encoded data removed]",
      "text/plain": [
       "<Figure size 432x288 with 1 Axes>"
      ]
     },
     "metadata": {
      "needs_background": "light"
     },
     "output_type": "display_data"
    }
   ],
   "source": [
    "env = gym.make(\"ALE/Breakout-v5\", obs_type=\"grayscale\")\n",
    "# visualize the original image vs. the newly processed array.\n",
    "\n",
    "raw_image = env.reset()\n",
    "_, preprocessed_image = prepro(raw_image[0])\n",
    "print(preprocessed_image.shape)\n",
    "plt.imshow(preprocessed_image.squeeze(0))\n",
    "# im = Image.fromarray(raw_image[0]) \n",
    "# im.save(\"your_file.jpeg\")\n",
    "# print(raw_image[0].shape)\n",
    "# plt.imshow(raw_image[0])\n",
    "# plt.show()\n"
   ]
  },
  {
   "cell_type": "code",
   "execution_count": 165,
   "metadata": {},
   "outputs": [],
   "source": [
    "env = gym.make(\"ALE/Breakout-v5\", obs_type=\"grayscale\")\n",
    "model = Qtable(1, 4, 256)\n",
    "obs = env.reset()[0]\n",
    "obs, _ = prepro(obs)\n",
    "criterion = nn.MSELoss()\n",
    "optimizer = torch.optim.RMSprop(model.parameters(), lr=1e-4)\n",
    "\n",
    "optimizer.zero_grad()  # Zero the gradients\n",
    "outputs = model(obs)  # Forward pass\n",
    "target_distribution = outputs[:, 3]  # Extract the target distribution\n",
    "loss = criterion(target_distribution, torch.tensor([10], dtype=torch.float32))  # Calculate the loss only for the target node\n",
    "loss.backward()  # Backward pass\n",
    "optimizer.step()  # Update weights"
   ]
  }
 ],
 "metadata": {
  "kernelspec": {
   "display_name": "Python 3",
   "language": "python",
   "name": "python3"
  },
  "language_info": {
   "codemirror_mode": {
    "name": "ipython",
    "version": 3
   },
   "file_extension": ".py",
   "mimetype": "text/x-python",
   "name": "python",
   "nbconvert_exporter": "python",
   "pygments_lexer": "ipython3",
   "version": "3.9.13"
  }
 },
 "nbformat": 4,
 "nbformat_minor": 2
}
